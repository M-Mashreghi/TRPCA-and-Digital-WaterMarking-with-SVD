{
  "cells": [
    {
      "cell_type": "code",
      "execution_count": 9,
      "metadata": {
        "id": "0XmKW9qa3QwW"
      },
      "outputs": [],
      "source": []
    },
    {
      "cell_type": "code",
      "execution_count": null,
      "metadata": {
        "id": "6n8Jvihc2urP"
      },
      "outputs": [],
      "source": [
        "!pip install tensorly\n",
        "!pip install sporco\n",
        "import os\n",
        "import cv2\n",
        "import numpy as np\n",
        "import tifffile\n",
        "import torch\n",
        "from tqdm import tqdm\n",
        "from sporco import cupy\n",
        "if cupy.have_cupy:\n",
        "    from sporco.cupy.admm.rpca import RobustPCA as RPCA_sporco_gpu\n",
        "from sporco.admm.rpca import RobustPCA as RPCA_sporco\n",
        "from torch.nn import functional as F\n",
        "import tensorly as tl\n",
        "import numpy as np\n",
        "import torch\n",
        "from tensorly import backend as T\n",
        "from tensorly.base import fold, unfold\n",
        "from tensorly.tenalg.proximal import soft_thresholding, svd_thresholding\n",
        "import torch\n"
      ]
    },
    {
      "cell_type": "code",
      "execution_count": 13,
      "metadata": {
        "id": "Gy_ewu-W39Ft"
      },
      "outputs": [],
      "source": []
    },
    {
      "cell_type": "code",
      "execution_count": 14,
      "metadata": {
        "id": "jm9GOiBZ3c4O"
      },
      "outputs": [],
      "source": [
        "\n",
        "\n",
        "\n"
      ]
    },
    {
      "cell_type": "code",
      "execution_count": 15,
      "metadata": {
        "id": "c3TJjjUQ4m5O"
      },
      "outputs": [],
      "source": []
    },
    {
      "cell_type": "code",
      "execution_count": 16,
      "metadata": {
        "colab": {
          "base_uri": "https://localhost:8080/"
        },
        "id": "vAoPlbXTzOXo",
        "outputId": "c34536c4-4075-46e8-d8ad-1e010f7c8d62"
      },
      "outputs": [
        {
          "name": "stdout",
          "output_type": "stream",
          "text": [
            "[INFO] FPS: 20\n",
            "[INFO] Total Frames: 451\n",
            "[INFO] Total time: 22.55s\n",
            "[INFO] Height: 360, Width: 640\n",
            "[INFO] All frames have been loaded !!!\n",
            "[INFO] Start processing...\n",
            "[INFO] iter: 2  error: 6750.149295460889\n",
            "[INFO] iter: 3  error: 4795.354866035442\n",
            "[INFO] iter: 4  error: 3116.2556189616466\n",
            "[INFO] iter: 5  error: 2570.454987661184\n",
            "[INFO] iter: 6  error: 2505.6960822999886\n",
            "[INFO] iter: 7  error: 2370.2835191994977\n",
            "[INFO] iter: 8  error: 2075.4428243125426\n",
            "[INFO] iter: 9  error: 1735.6645406691596\n",
            "[INFO] iter: 10  error: 1479.4110675870006\n",
            "[INFO] iter: 11  error: 1333.9082719983005\n",
            "[INFO] iter: 12  error: 1236.1117833612107\n",
            "[INFO] iter: 13  error: 1132.6208636141564\n",
            "[INFO] iter: 14  error: 1022.5168049054831\n",
            "[INFO] iter: 15  error: 924.6328720992321\n",
            "[INFO] iter: 16  error: 844.0832304810835\n",
            "[INFO] iter: 17  error: 774.8397197759808\n",
            "[INFO] iter: 18  error: 711.4813883308783\n",
            "[INFO] iter: 19  error: 651.1956630423513\n",
            "[INFO] iter: 20  error: 593.0148767837458\n",
            "[INFO] iter: 21  error: 537.7879093388842\n",
            "[INFO] iter: 22  error: 486.5111171956575\n",
            "[INFO] iter: 23  error: 439.65688393475403\n",
            "[INFO] iter: 24  error: 397.3480227659585\n",
            "[INFO] iter: 25  error: 358.619996758462\n",
            "[INFO] iter: 26  error: 322.8163744256912\n",
            "[INFO] iter: 27  error: 289.6400155776082\n",
            "[INFO] iter: 28  error: 258.5739130788141\n",
            "[INFO] iter: 29  error: 229.43413269754063\n",
            "[INFO] iter: 30  error: 203.42325020139177\n",
            "[INFO] iter: 31  error: 180.35291650717085\n",
            "[INFO] iter: 32  error: 159.60996730773718\n",
            "[INFO] iter: 33  error: 140.94102211453537\n",
            "[INFO] iter: 34  error: 124.15518436251232\n",
            "[INFO] iter: 35  error: 108.75525745296672\n",
            "[INFO] iter: 36  error: 95.69118811678275\n",
            "[INFO] iter: 37  error: 83.54006373616393\n",
            "[INFO] iter: 38  error: 72.72363247697766\n",
            "[INFO] iter: 39  error: 63.99304074094775\n",
            "[INFO] iter: 40  error: 56.30520970547129\n",
            "[INFO] iter: 41  error: 48.954233840342845\n",
            "[INFO] iter: 42  error: 42.26845364104969\n",
            "[INFO] iter: 43  error: 36.946633944666\n",
            "[INFO] iter: 44  error: 32.7419881559546\n",
            "[INFO] iter: 45  error: 29.196506068007867\n",
            "[INFO] iter: 46  error: 25.946994643994262\n",
            "[INFO] iter: 47  error: 22.75553000192117\n",
            "[INFO] iter: 48  error: 19.52868674932822\n",
            "[INFO] iter: 49  error: 16.416327055530882\n",
            "[INFO] iter: 50  error: 13.707427532780041\n",
            "[INFO] iter: 51  error: 11.477754659421162\n",
            "[INFO] iter: 52  error: 9.69234806014238\n",
            "[INFO] iter: 53  error: 8.284669321841186\n",
            "[INFO] iter: 54  error: 7.178597934095649\n",
            "[INFO] iter: 55  error: 6.307698362148959\n",
            "[INFO] iter: 56  error: 5.613316784417205\n",
            "[INFO] iter: 57  error: 5.045511265335971\n",
            "[INFO] iter: 58  error: 4.5697832168217785\n",
            "[INFO] iter: 59  error: 4.15778972757629\n",
            "[INFO] iter: 60  error: 3.789961060840979\n",
            "[INFO] iter: 61  error: 3.4547110501217033\n",
            "[INFO] iter: 62  error: 3.143882304065197\n",
            "[INFO] iter: 63  error: 2.855362257688751\n",
            "[INFO] iter: 64  error: 2.5846985690421365\n",
            "[INFO] iter: 65  error: 2.3315923189876244\n",
            "[INFO] iter: 66  error: 2.0961953446719006\n",
            "[INFO] iter: 67  error: 1.8794622449672849\n",
            "[INFO] iter: 68  error: 1.6813303159744586\n",
            "[INFO] iter: 69  error: 1.5016709492717288\n",
            "[INFO] iter: 70  error: 1.340159931821133\n",
            "[INFO] iter: 71  error: 1.1958271473999582\n",
            "[INFO] iter: 72  error: 1.0677666079050006\n",
            "[INFO] iter: 73  error: 0.9548524939412878\n",
            "[INFO] iter: 74  error: 0.854455629425945\n",
            "[INFO] iter: 75  error: 0.7652127648152922\n",
            "[INFO] iter: 76  error: 0.6866669895795577\n",
            "[INFO] iter: 77  error: 0.6166071378890896\n",
            "[INFO] iter: 78  error: 0.5537681063402216\n",
            "[INFO] iter: 79  error: 0.4974212782092731\n",
            "[INFO] iter: 80  error: 0.44652819464954224\n",
            "[INFO] iter: 81  error: 0.40047161644182694\n",
            "[INFO] iter: 82  error: 0.35852799761369636\n",
            "[INFO] iter: 83  error: 0.3205093431215237\n",
            "[INFO] iter: 84  error: 0.2862660093592201\n",
            "[INFO] iter: 85  error: 0.25543118665245873\n",
            "[INFO] iter: 86  error: 0.22764459800757855\n",
            "[INFO] iter: 87  error: 0.20254808476243408\n",
            "[INFO] iter: 88  error: 0.18017607063113492\n",
            "[INFO] iter: 89  error: 0.16014683274458225\n",
            "[INFO] iter: 90  error: 0.14216971464286413\n",
            "[INFO] iter: 91  error: 0.12629951486040766\n",
            "[INFO] iter: 92  error: 0.11208238368201624\n",
            "[INFO] iter: 93  error: 0.09959601573026672\n",
            "[INFO] iter: 94  error: 0.08842678234600124\n",
            "[INFO] iter: 95  error: 0.07834406123361605\n",
            "[INFO] iter: 96  error: 0.06938074931846534\n",
            "[INFO] iter: 97  error: 0.061485923364760095\n",
            "[INFO] iter: 98  error: 0.054426041662259866\n",
            "[INFO] iter: 99  error: 0.048175187695681645\n",
            "[INFO] Time Elapsed: 759.158s\n",
            "[INFO] Start to write segmentation results...\n",
            "[INFO] Foreground Masks and Background estimations have been saved at /content/output_video_part1_results !!!\n"
          ]
        }
      ],
      "source": []
    },
    {
      "cell_type": "code",
      "execution_count": 17,
      "metadata": {
        "colab": {
          "base_uri": "https://localhost:8080/"
        },
        "id": "V6YCXlhn_qGw",
        "outputId": "0360f1de-6f59-413f-aaf6-79a6819199a9"
      },
      "outputs": [
        {
          "name": "stdout",
          "output_type": "stream",
          "text": [
            "Zip file created: /content/test2_RTPCA_results.zip\n"
          ]
        }
      ],
      "source": [
        "import shutil\n",
        "\n",
        "# Specify the folder you want to zip\n",
        "folder_path = '/content/test2_RTPCA_results'\n",
        "\n",
        "# Specify the output zip file name\n",
        "zip_file_name = '/content/test2_RTPCA_results.zip'\n",
        "\n",
        "# Create a zip file from the folder\n",
        "shutil.make_archive(zip_file_name, 'zip', folder_path)\n",
        "\n",
        "print(f'Zip file created: {zip_file_name}')\n"
      ]
    }
  ],
  "metadata": {
    "accelerator": "GPU",
    "colab": {
      "provenance": []
    },
    "kernelspec": {
      "display_name": "Python 3",
      "language": "python",
      "name": "python3"
    },
    "language_info": {
      "codemirror_mode": {
        "name": "ipython",
        "version": 3
      },
      "file_extension": ".py",
      "mimetype": "text/x-python",
      "name": "python",
      "nbconvert_exporter": "python",
      "pygments_lexer": "ipython3",
      "version": "3.11.4"
    }
  },
  "nbformat": 4,
  "nbformat_minor": 0
}
